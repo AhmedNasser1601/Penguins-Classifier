{
 "cells": [
  {
   "cell_type": "code",
   "execution_count": 1,
   "id": "1110da9b",
   "metadata": {},
   "outputs": [],
   "source": [
    "import numpy as np\n",
    "import pandas as pd\n",
    "import warnings"
   ]
  },
  {
   "cell_type": "code",
   "execution_count": 2,
   "id": "96da25f7",
   "metadata": {},
   "outputs": [],
   "source": [
    "def activationFn(val, activeFn):\n",
    "    warnings.filterwarnings('ignore')\n",
    "    if activeFn == 'Sigmoid': return 1/(1+np.exp(-val))\n",
    "    else: return np.tanh(val)"
   ]
  },
  {
   "cell_type": "code",
   "execution_count": 3,
   "id": "6fe4cf37",
   "metadata": {},
   "outputs": [],
   "source": [
    "def BackPropagationFn(inTrain, inTest, outTrain, weights, activeFn, epochs, eta, layers, nn, bias):\n",
    "    neurons, outPred = list(), list()\n",
    "    for n in nn:\n",
    "        neurons.append(np.zeros(n))\n",
    "    neurons.append(np.zeros(3))\n",
    "    holder, final = neurons, neurons\n",
    "    \n",
    "    for epoch in range(epochs):\n",
    "        for itr in range(len(inTrain)):\n",
    "            neurons[0] = activationFn(inTrain[itr].dot(weights[0]), activeFn)\n",
    "            for layer in range(1, layers+1):  #Feed Forward\n",
    "                neurons[layer] = activationFn(neurons[layer-1].dot(weights[layer]), activeFn)\n",
    "            for n in range(len(neurons)-1):\n",
    "                neurons[n][0] = bias\n",
    "            \n",
    "            holder[layers] = (outTrain[itr]-neurons[-1]) * (neurons[layers]*(1-neurons[layers]))\n",
    "            for layer in range(layers-1, -1, -1):  #Back Propagate\n",
    "                holder[layer] = (neurons[layer]*(1-neurons[layer])) * (holder[layer+1].dot(weights[layer+1].transpose()))\n",
    "            \n",
    "            (x, y) = weights[0].shape\n",
    "            weights[0] += (eta * (inTrain[itr].reshape(x, 1).dot(holder[0].reshape(1, y))))\n",
    "            for layer in range(1, layers+1):  #Update Weights\n",
    "                (x, y) = weights[layer].shape\n",
    "                weights[layer] += (eta * (neurons[layer-1].reshape(x, 1).dot(holder[layer].reshape(1, y))))\n",
    "    \n",
    "    for input in (inTrain, inTest):\n",
    "        fOut = list()\n",
    "        for itr in range(len(input)):\n",
    "            final[0] = activationFn(input[itr].dot(weights[0]), activeFn)\n",
    "            for layer in range(1, layers+1):  #Feed Forward\n",
    "                final[layer] = activationFn(final[layer-1].dot(weights[layer]), activeFn)\n",
    "            for n in range(len(final)-1):\n",
    "                final[n][0] = bias\n",
    "            fOut.append(final[-1])\n",
    "        for y in fOut:\n",
    "            for idx in range(len(y)):\n",
    "                y[idx] = 1 if idx==np.argmax(y) else 0\n",
    "        outPred.append(fOut)\n",
    "    return outPred"
   ]
  },
  {
   "cell_type": "code",
   "execution_count": 4,
   "id": "8bd208b8",
   "metadata": {},
   "outputs": [],
   "source": [
    "def ConfusionMatrixFn(target, predOut):\n",
    "    case = list()\n",
    "    confMat = np.zeros([3, 3])\n",
    "    classes = ['Adelie', 'Gentoo', 'Chinstrap']\n",
    "    truthVals = pd.DataFrame(columns=['Pred', 'Real', 'Match'])\n",
    "\n",
    "    for idx in range(len(target)):\n",
    "        confMat[np.argmax(target[idx])][np.argmax(predOut[idx])] += 1\n",
    "        case.append([\n",
    "            classes[np.argmax(predOut[idx])],\n",
    "            classes[np.argmax(target[idx])],\n",
    "            '[*]' if np.argmax(target[idx])==np.argmax(predOut[idx]) else '[ ]']\n",
    "        )\n",
    "    \n",
    "    truthVals = truthVals.append(pd.DataFrame(case, columns=['Pred', 'Real', 'Match']), ignore_index=True)\n",
    "    \n",
    "    print('    Overall Acc: %{0:.2f}'.format((np.trace(confMat)/np.sum(confMat))*100),\n",
    "          '\\n\\n', truthVals, '\\n\\n', '-----> Confusion Matrix <-----\\n',\n",
    "          pd.DataFrame(confMat, columns=['C1', 'C2', 'C3'], index=['C1', 'C2', 'C3']), '\\n')\n",
    "\n",
    "    for i in range(len(classes)):\n",
    "        print('{}: %{}'.format(classes[i], ((confMat[i][i]/(len(target)/len(classes)))*100)))"
   ]
  }
 ],
 "metadata": {
  "kernelspec": {
   "display_name": "Python 3 (ipykernel)",
   "language": "python",
   "name": "python3"
  },
  "language_info": {
   "codemirror_mode": {
    "name": "ipython",
    "version": 3
   },
   "file_extension": ".py",
   "mimetype": "text/x-python",
   "name": "python",
   "nbconvert_exporter": "python",
   "pygments_lexer": "ipython3",
   "version": "3.9.12"
  }
 },
 "nbformat": 4,
 "nbformat_minor": 5
}
