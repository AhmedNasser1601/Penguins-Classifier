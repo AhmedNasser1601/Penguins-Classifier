{
 "cells": [
  {
   "cell_type": "code",
   "execution_count": null,
   "id": "1110da9b",
   "metadata": {},
   "outputs": [],
   "source": [
    "import numpy as np"
   ]
  },
  {
   "cell_type": "code",
   "execution_count": null,
   "id": "96da25f7",
   "metadata": {},
   "outputs": [],
   "source": [
    "def activation(val, activeFn):\n",
    "    if activeFn == 'Sigmoid':\n",
    "        return 1/(1 + np.exp(-val))\n",
    "    else:\n",
    "        return np.tanh(val)"
   ]
  },
  {
   "cell_type": "code",
   "execution_count": null,
   "id": "6fe4cf37",
   "metadata": {},
   "outputs": [],
   "source": [
    "def BackPropagationAlgo(inN, outN, weights, activeFn, epochs, eta, layers, nn, bias):\n",
    "    import numpy as np\n",
    "\n",
    "    neurons = list()\n",
    "    for n in nn:\n",
    "        neurons.append(np.zeros(n))\n",
    "    neurons.append(np.zeros(3))\n",
    "    holder = neurons\n",
    "    \n",
    "    for epoch in range(epochs):\n",
    "        for itr in range(len(inN)):\n",
    "            for layer in range(layers+1):  #Feed Forward\n",
    "                if layer == 0:\n",
    "                    neurons[layer] = activation(inN[itr].dot(weights[layer]), activeFn)\n",
    "                    continue\n",
    "                neurons[layer] = activation(neurons[layer-1].dot(weights[layer]), activeFn)\n",
    "            for n in range(len(neurons)-1):\n",
    "                neurons[n][0] = bias\n",
    "            \n",
    "            for layer in range(layers, -1, -1):  #Back Propagate\n",
    "                goBack = neurons[layer] * (1-neurons[layer])\n",
    "                if layer == layers:\n",
    "                    err = outN[itr] - neurons[-1]\n",
    "                    holder[layer] = err * goBack\n",
    "                    continue\n",
    "                holder[layer] = goBack * (holder[layer+1].dot(weights[layer+1].transpose()))\n",
    "            \n",
    "            for layer in range(layers+1):  #Update Weights\n",
    "                (x, y) = weights[layer].shape\n",
    "                if layer == 0:\n",
    "                    inNew = inN[itr].reshape(x, 1).dot(holder[layer].reshape(1, y))\n",
    "                    weights[layer] += (eta * inNew)\n",
    "                    continue\n",
    "                inNew = neurons[layer-1].reshape(x, 1).dot(holder[layer].reshape(1, y))\n",
    "                weights[layer] += (eta * inNew)\n",
    "            \n",
    "    return weights"
   ]
  }
 ],
 "metadata": {
  "kernelspec": {
   "display_name": "Python 3 (ipykernel)",
   "language": "python",
   "name": "python3"
  },
  "language_info": {
   "codemirror_mode": {
    "name": "ipython",
    "version": 3
   },
   "file_extension": ".py",
   "mimetype": "text/x-python",
   "name": "python",
   "nbconvert_exporter": "python",
   "pygments_lexer": "ipython3",
   "version": "3.9.12"
  }
 },
 "nbformat": 4,
 "nbformat_minor": 5
}
