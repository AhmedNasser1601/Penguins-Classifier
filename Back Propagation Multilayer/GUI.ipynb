{
 "cells": [
  {
   "cell_type": "code",
   "execution_count": 1,
   "id": "58b237f9",
   "metadata": {},
   "outputs": [],
   "source": [
    "import numpy as np\n",
    "import pandas as pd\n",
    "\n",
    "from tkinter import *\n",
    "from tkinter import ttk\n",
    "from tkinter import messagebox\n",
    "import tkinter.font as tkFont\n",
    "\n",
    "from sklearn import preprocessing\n",
    "from sklearn.preprocessing import LabelEncoder\n",
    "from sklearn.preprocessing import OneHotEncoder\n",
    "from sklearn.compose import ColumnTransformer\n",
    "\n",
    "from Model import *"
   ]
  },
  {
   "cell_type": "code",
   "execution_count": 2,
   "id": "3f28d661",
   "metadata": {},
   "outputs": [],
   "source": [
    "def genLblTxt(text):\n",
    "    lbl, txt = StringVar(), Entry(Top)\n",
    "    lbl.set(text)\n",
    "    Label(Top, textvariable=lbl).pack(padx=5, pady=5)\n",
    "    txt.pack(padx=5, pady=5)\n",
    "    return txt\n",
    "\n",
    "def getter():\n",
    "    return (\n",
    "        int(txtEnt[0].get()),\n",
    "        [int(nn) for nn in (txtEnt[1].get()).split()],\n",
    "        float(txtEnt[2].get()),\n",
    "        int(txtEnt[3].get()),\n",
    "        int(txtEnt[4].get()),\n",
    "        txtEnt[5].get()\n",
    "    )"
   ]
  },
  {
   "cell_type": "markdown",
   "id": "45f76e65",
   "metadata": {},
   "source": [
    "---"
   ]
  },
  {
   "cell_type": "code",
   "execution_count": 3,
   "id": "b7074842",
   "metadata": {
    "scrolled": false
   },
   "outputs": [],
   "source": [
    "def modelRUN():\n",
    "    df = pd.read_csv('penguins.csv')\n",
    "    df['gender'] = LabelEncoder().fit_transform(df['gender'])    \n",
    "    df = pd.DataFrame(ColumnTransformer([(df.columns[0], OneHotEncoder(),\n",
    "                        [df.columns.get_loc(df.columns[0])])],\n",
    "                      remainder='passthrough').fit_transform(df),\n",
    "                      columns=['C1', 'C2', 'C3', 'X1', 'X2', 'X3', 'X4', 'X5'])\n",
    "    \n",
    "    try: layers, nn, eta, epochs, bias, activeFn = getter()\n",
    "    except: layers, nn, eta, epochs, bias, activeFn = 2, (8, 4), 0.01, 20, 1, 'TanH'\n",
    "    \n",
    "    df.insert(loc=3, column='bias', value=[bias for _ in range(len(df))])\n",
    "        \n",
    "    C1, C2, C3 = df[:50].sample(frac=1), df[50:100].sample(frac=1), df[100:].sample(frac=1)\n",
    "    trainData = (pd.concat([C1[:30], C2[:30], C3[:30]])).to_numpy()\n",
    "    testData = (pd.concat([C1[30:], C2[30:], C3[30:]])).to_numpy()\n",
    "    \n",
    "    inTrain, outTrain = np.zeros([len(trainData), 5+1]), np.zeros([len(trainData), 3])\n",
    "    inTest, outTest = np.zeros([len(testData), 5+1]), np.zeros([len(testData), 3])\n",
    "    for i in range(len(trainData)):\n",
    "        outTrain[i], inTrain[i] = trainData[i][0:3], trainData[i][3:]\n",
    "    for i in range(len(testData)):\n",
    "        outTest[i], inTest[i] = testData[i][0:3], testData[i][3:]\n",
    "    \n",
    "    weights = list()\n",
    "    weights.append(np.random.randn(5+1, nn[0]))\n",
    "    for i in range(layers-1):\n",
    "        weights.append(np.random.randn(nn[i], nn[i+1]))\n",
    "    weights.append(np.random.randn(nn[-1], 3))\n",
    "    \n",
    "    return BackPropagationAlgo(inTrain, inTest, outTrain, weights, activeFn, epochs, eta, layers, nn, bias), outTest"
   ]
  },
  {
   "cell_type": "code",
   "execution_count": 4,
   "id": "2a70c9a3",
   "metadata": {},
   "outputs": [],
   "source": [
    "def PredictFn():\n",
    "    for i in range(len(txtEnt)):\n",
    "        if txtEnt[i].get() in ('', 'Activation Function >>'):\n",
    "            messagebox.showerror(title=\"error\", message=\"Insert the missing inputs\", parent=Top)\n",
    "            break\n",
    "    else:\n",
    "        print('>>>  ', getter(), '  <<<')\n",
    "        predOut, targetTest = modelRUN()\n",
    "        ConfusionMatrix(targetTest, predOut)"
   ]
  },
  {
   "cell_type": "markdown",
   "id": "fc4674b5",
   "metadata": {},
   "source": [
    "---"
   ]
  },
  {
   "cell_type": "code",
   "execution_count": 5,
   "id": "8b3d7581",
   "metadata": {
    "scrolled": false
   },
   "outputs": [],
   "source": [
    "Top = Tk()\n",
    "Top.geometry('300x400')\n",
    "Top.title('Back Propagation Algo')\n",
    "Top.resizable(False, False)\n",
    "\n",
    "txtEnt = [0]*6\n",
    "txtEnt[0] = (genLblTxt('No. of Hidden Layers'))\n",
    "txtEnt[1] = (genLblTxt('No. of Neurons\\n(separate by space)'))\n",
    "txtEnt[2] = (genLblTxt('Learning Rate Value'))\n",
    "txtEnt[3] = (genLblTxt('No. of Epochs'))\n",
    "\n",
    "txtEnt[4] = IntVar()\n",
    "cb_obj = Checkbutton(Top, text='Add Bias', variable=txtEnt[4], onvalue=1, offvalue=0)\n",
    "cb_obj.pack()\n",
    "\n",
    "txtEnt[5] = ttk.Combobox(Top, textvariable=StringVar(), state='readonly', values=('Sigmoid', 'TanH'))\n",
    "txtEnt[5].set('Activation Function >>')\n",
    "txtEnt[5].pack(padx=5, pady=5)\n",
    "\n",
    "btn_submit = Button(Top, text='Run', width=10, command=PredictFn, bg='green', fg='yellow')\n",
    "btn_submit.pack(pady=25)\n",
    "\n",
    "Top.mainloop()"
   ]
  }
 ],
 "metadata": {
  "kernelspec": {
   "display_name": "Python 3 (ipykernel)",
   "language": "python",
   "name": "python3"
  },
  "language_info": {
   "codemirror_mode": {
    "name": "ipython",
    "version": 3
   },
   "file_extension": ".py",
   "mimetype": "text/x-python",
   "name": "python",
   "nbconvert_exporter": "python",
   "pygments_lexer": "ipython3",
   "version": "3.9.12"
  }
 },
 "nbformat": 4,
 "nbformat_minor": 5
}
