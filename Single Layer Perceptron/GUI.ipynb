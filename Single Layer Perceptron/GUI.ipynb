{
 "cells": [
  {
   "cell_type": "code",
   "execution_count": 1,
   "id": "4b18ba12",
   "metadata": {
    "scrolled": false
   },
   "outputs": [
    {
     "name": "stdout",
     "output_type": "stream",
     "text": [
      "|> Truth Values for Training <|\n",
      "   Training Accuracy:  90.0 %\n",
      "     Real  Pred Match\n",
      "0      1     1   [*]\n",
      "1      1     1   [*]\n",
      "2      1     1   [*]\n",
      "3      1     1   [*]\n",
      "4      1    -1   [ ]\n",
      "5      1     1   [*]\n",
      "6      1     1   [*]\n",
      "7      1     1   [*]\n",
      "8      1     1   [*]\n",
      "9      1     1   [*]\n",
      "10     1    -1   [ ]\n",
      "11     1     1   [*]\n",
      "12     1     1   [*]\n",
      "13     1     1   [*]\n",
      "14     1     1   [*]\n",
      "15     1     1   [*]\n",
      "16     1     1   [*]\n",
      "17     1     1   [*]\n",
      "18     1     1   [*]\n",
      "19     1     1   [*]\n",
      "20     1     1   [*]\n",
      "21     1     1   [*]\n",
      "22     1     1   [*]\n",
      "23     1    -1   [ ]\n",
      "24     1    -1   [ ]\n",
      "25     1     1   [*]\n",
      "26     1     1   [*]\n",
      "27     1    -1   [ ]\n",
      "28     1     1   [*]\n",
      "29     1    -1   [ ]\n",
      "30    -1    -1   [*]\n",
      "31    -1    -1   [*]\n",
      "32    -1    -1   [*]\n",
      "33    -1    -1   [*]\n",
      "34    -1    -1   [*]\n",
      "35    -1    -1   [*]\n",
      "36    -1    -1   [*]\n",
      "37    -1    -1   [*]\n",
      "38    -1    -1   [*]\n",
      "39    -1    -1   [*]\n",
      "40    -1    -1   [*]\n",
      "41    -1    -1   [*]\n",
      "42    -1    -1   [*]\n",
      "43    -1    -1   [*]\n",
      "44    -1    -1   [*]\n",
      "45    -1    -1   [*]\n",
      "46    -1    -1   [*]\n",
      "47    -1    -1   [*]\n",
      "48    -1    -1   [*]\n",
      "49    -1    -1   [*]\n",
      "50    -1    -1   [*]\n",
      "51    -1    -1   [*]\n",
      "52    -1    -1   [*]\n",
      "53    -1    -1   [*]\n",
      "54    -1    -1   [*]\n",
      "55    -1    -1   [*]\n",
      "56    -1    -1   [*]\n",
      "57    -1    -1   [*]\n",
      "58    -1    -1   [*]\n",
      "59    -1    -1   [*] \n",
      " -----------------------------------\n",
      "|> Truth Values for Testing <|\n",
      "   Testing Accuracy:  75.0 %\n",
      "     Real  Pred Match\n",
      "0      1     1   [*]\n",
      "1      1     1   [*]\n",
      "2      1     1   [*]\n",
      "3      1     1   [*]\n",
      "4      1     1   [*]\n",
      "5      1     1   [*]\n",
      "6      1     1   [*]\n",
      "7      1     1   [*]\n",
      "8      1     1   [*]\n",
      "9      1     1   [*]\n",
      "10     1     1   [*]\n",
      "11     1     1   [*]\n",
      "12     1     1   [*]\n",
      "13     1     1   [*]\n",
      "14     1     1   [*]\n",
      "15     1     1   [*]\n",
      "16     1     1   [*]\n",
      "17     1     1   [*]\n",
      "18     1     1   [*]\n",
      "19     1     1   [*]\n",
      "20    -1    -1   [*]\n",
      "21    -1     1   [ ]\n",
      "22    -1    -1   [*]\n",
      "23    -1     1   [ ]\n",
      "24    -1     1   [ ]\n",
      "25    -1    -1   [*]\n",
      "26    -1     1   [ ]\n",
      "27    -1     1   [ ]\n",
      "28    -1     1   [ ]\n",
      "29    -1    -1   [*]\n",
      "30    -1    -1   [*]\n",
      "31    -1    -1   [*]\n",
      "32    -1     1   [ ]\n",
      "33    -1     1   [ ]\n",
      "34    -1    -1   [*]\n",
      "35    -1    -1   [*]\n",
      "36    -1    -1   [*]\n",
      "37    -1     1   [ ]\n",
      "38    -1     1   [ ]\n",
      "39    -1    -1   [*] \n",
      " -----------------------------------\n"
     ]
    }
   ],
   "source": [
    "import os\n",
    "import tkinter as tk\n",
    "from tkinter import Canvas\n",
    "from tkinter import messagebox\n",
    "from tkinter import ttk\n",
    "\n",
    "import numpy as np\n",
    "from matplotlib.backends.backend_tkagg import (FigureCanvasTkAgg, NavigationToolbar2Tk)\n",
    "from matplotlib.figure import Figure\n",
    "\n",
    "import Model\n",
    "import preReq"
   ]
  },
  {
   "cell_type": "markdown",
   "id": "a29c1914",
   "metadata": {},
   "source": [
    "---\n",
    "### Input Part"
   ]
  },
  {
   "cell_type": "code",
   "execution_count": 2,
   "id": "0d515967",
   "metadata": {},
   "outputs": [
    {
     "data": {
      "text/plain": [
       "''"
      ]
     },
     "execution_count": 2,
     "metadata": {},
     "output_type": "execute_result"
    }
   ],
   "source": [
    "Top = tk.Tk()\n",
    "Top.title(\"Penguins-Classifier-Perceptron\")\n",
    "Top.geometry('1000x500')\n",
    "Top.resizable(0, 0)"
   ]
  },
  {
   "cell_type": "code",
   "execution_count": 3,
   "id": "2c8753a1",
   "metadata": {},
   "outputs": [],
   "source": [
    "Input_lbl = tk.Label(Top, text='Input', font=('Times New Roman', 27), foreground=\"#a52a2a\")\n",
    "Input_lbl.place(x=130, y=1)\n",
    "\n",
    "Output_lbl = tk.Label(Top, text='Output', font=('Times New Roman', 27), foreground=\"#a52a2a\")\n",
    "Output_lbl.place(x=630, y=1)"
   ]
  },
  {
   "cell_type": "code",
   "execution_count": 4,
   "id": "00e3f97f",
   "metadata": {},
   "outputs": [],
   "source": [
    "Feature1_lbl = tk.Label(Top, text='Select 1st Feature', font=('Verdana', 12), foreground=\"Blue\")\n",
    "Feature1_lbl.place(x=10, y=60)\n",
    "\n",
    "Feature1 = ttk.Combobox(Top, width=15, font=('Verdana', 10))\n",
    "Feature1['values'] = preReq.Features\n",
    "Feature1.current()\n",
    "Feature1.place(x=200, y=60)\n",
    "\n",
    "Feature2_lbl = tk.Label(Top, text='Select 2nd Feature', font=('Verdana', 12), foreground=\"Blue\")\n",
    "Feature2_lbl.place(x=10, y=100)\n",
    "\n",
    "Feature2 = ttk.Combobox(Top, width=15, font=('Verdana', 10))\n",
    "Feature2['values'] = preReq.Features\n",
    "Feature2.current()\n",
    "Feature2.place(x=200, y=100)"
   ]
  },
  {
   "cell_type": "code",
   "execution_count": 5,
   "id": "35eaa1a2",
   "metadata": {},
   "outputs": [],
   "source": [
    "Class1_lbl = tk.Label(Top, text='Select 1st Class', font=('Verdana', 12), foreground=\"Blue\")\n",
    "Class1_lbl.place(x=10, y=160)\n",
    "\n",
    "Class1 = ttk.Combobox(Top, width=15, font=('Verdana', 10))\n",
    "Class1['values'] = preReq.Classes\n",
    "Class1.current()\n",
    "Class1.place(x=200, y=160)\n",
    "\n",
    "Class2_lbl = tk.Label(Top, text='Select 2nd Class', font=('Verdana', 12), foreground=\"Blue\")\n",
    "Class2_lbl.place(x=10, y=200)\n",
    "\n",
    "Class2 = ttk.Combobox(Top, width=15, font=('Verdana', 10))\n",
    "Class2['values'] = preReq.Classes\n",
    "Class2.current()\n",
    "Class2.place(x=200, y=200)"
   ]
  },
  {
   "cell_type": "code",
   "execution_count": 6,
   "id": "d13e6974",
   "metadata": {},
   "outputs": [],
   "source": [
    "eta_lbl = tk.Label(Top, text='Enter eta value', font=('Verdana', 12), foreground=\"Blue\")\n",
    "eta_lbl.place(x=10, y=260)\n",
    "\n",
    "eta = tk.Entry(Top, font=('Verdana', 10), foreground=\"Blue\", width=10)\n",
    "eta.place(x=200, y=260)"
   ]
  },
  {
   "cell_type": "code",
   "execution_count": 7,
   "id": "6d370594",
   "metadata": {},
   "outputs": [],
   "source": [
    "ebochs_lbl = tk.Label(Top, text='Enter no. of ebochs', font=('Verdana', 12), foreground=\"Blue\")\n",
    "ebochs_lbl.place(x=10, y=300)\n",
    "\n",
    "ebochs = tk.Entry(Top, font=('Verdana', 10), foreground=\"Blue\", width=10)\n",
    "ebochs.place(x=200, y=300)"
   ]
  },
  {
   "cell_type": "code",
   "execution_count": 8,
   "id": "02549ff8",
   "metadata": {},
   "outputs": [],
   "source": [
    "CheckBias = tk.IntVar()\n",
    "Bias = tk.Checkbutton(Top, text=\"Bias\", variable=CheckBias, onvalue=1, offvalue=0, font=('Verdana', 20, 'bold'),\n",
    "                      foreground=\"Orange\")\n",
    "Bias.place(x=50, y=340)"
   ]
  },
  {
   "cell_type": "code",
   "execution_count": 9,
   "id": "ed34aac8",
   "metadata": {},
   "outputs": [],
   "source": [
    "def PredictFn():\n",
    "    if (Feature1.get() == '') or (Feature2.get() == '') or (Class1.get() == '') or (Class2.get() == '') or (\n",
    "            eta.get() == '') or (ebochs.get() == ''):\n",
    "        messagebox.showerror(title=\"error\", message=\"Insert the missing inputs\", parent=Top)\n",
    "    elif (Feature1.get() == Feature2.get()) or (Class1.get() == Class2.get()):\n",
    "        messagebox.showerror(title=\"error\", message=\"Don't reapet your choose\", parent=Top)\n",
    "    else:\n",
    "        preReq.INarr[0] = Feature1.get()\n",
    "        preReq.INarr[1] = Feature2.get()\n",
    "        preReq.INarr[2] = Class1.get()\n",
    "        preReq.INarr[3] = Class2.get()\n",
    "        preReq.INarr[4] = abs(float(eta.get()))\n",
    "        preReq.INarr[5] = abs(int(ebochs.get()))\n",
    "        preReq.INarr[6] = CheckBias.get()\n",
    "        exec(open('Model.py').read())\n",
    "        Top.destroy()\n",
    "\n",
    "\n",
    "PredictBTN = tk.Button(Top, text=\"Run\", font=('Verdana', 15, 'bold'), bg=\"green\", foreground=\"yellow\",\n",
    "                       command=PredictFn)\n",
    "PredictBTN.place(x=210, y=400)"
   ]
  },
  {
   "cell_type": "code",
   "execution_count": 10,
   "id": "c66bf5f4",
   "metadata": {},
   "outputs": [],
   "source": [
    "def ExitFn():\n",
    "    os._exit(1)\n",
    "\n",
    "\n",
    "ExitBTN = tk.Button(Top, text=\"Exit\", font=('Verdana', 15, 'bold'), bg=\"red\", foreground=\"yellow\", command=ExitFn)\n",
    "ExitBTN.place(x=90, y=400)"
   ]
  },
  {
   "cell_type": "code",
   "execution_count": 11,
   "id": "7c33dbbd",
   "metadata": {},
   "outputs": [],
   "source": [
    "canvas = Canvas(Top, width=5, height=500)\n",
    "for x in range(5):\n",
    "    canvas.create_line(x, 0, x, 500, fill=\"#a52a2a\")\n",
    "canvas.place(x=380, y=0)"
   ]
  },
  {
   "cell_type": "code",
   "execution_count": 12,
   "id": "d377647e",
   "metadata": {},
   "outputs": [],
   "source": [
    "Top.mainloop()"
   ]
  },
  {
   "cell_type": "markdown",
   "id": "6ee7b283",
   "metadata": {},
   "source": [
    "---\n",
    "### Output Part"
   ]
  },
  {
   "cell_type": "code",
   "execution_count": 13,
   "id": "ac3fbd21",
   "metadata": {},
   "outputs": [
    {
     "data": {
      "text/plain": [
       "''"
      ]
     },
     "execution_count": 13,
     "metadata": {},
     "output_type": "execute_result"
    }
   ],
   "source": [
    "Top = tk.Tk()\n",
    "Top.title(\"Penguins-Classifier-Perceptron\")\n",
    "Top.geometry('1000x500')\n",
    "Top.resizable(0, 0)"
   ]
  },
  {
   "cell_type": "code",
   "execution_count": 14,
   "id": "0bf3903a",
   "metadata": {},
   "outputs": [],
   "source": [
    "Input_lbl = tk.Label(Top, text='Input', font=('Times New Roman', 27), foreground=\"#a52a2a\")\n",
    "Input_lbl.place(x=130, y=1)\n",
    "\n",
    "Output_lbl = tk.Label(Top, text='Output', font=('Times New Roman', 27), foreground=\"#a52a2a\")\n",
    "Output_lbl.place(x=630, y=1)"
   ]
  },
  {
   "cell_type": "code",
   "execution_count": 15,
   "id": "7f56a459",
   "metadata": {},
   "outputs": [],
   "source": [
    "Feature1_lbl = tk.Label(Top, text='Select 1st Feature', font=('Verdana', 12), foreground=\"Blue\")\n",
    "Feature1_lbl.place(x=10, y=60)\n",
    "\n",
    "Feature1 = tk.Entry(Top, font=('Verdana', 12), foreground=\"green\", width=16)\n",
    "Feature1.configure(state='normal')\n",
    "Feature1.insert('end', preReq.INarr[0])\n",
    "Feature1.configure(state='disabled')\n",
    "Feature1.place(x=200, y=60)\n",
    "\n",
    "Feature2_lbl = tk.Label(Top, text='Select 2nd Feature', font=('Verdana', 12), foreground=\"Blue\")\n",
    "Feature2_lbl.place(x=10, y=100)\n",
    "\n",
    "Feature2 = tk.Entry(Top, font=('Verdana', 12), foreground=\"green\", width=16)\n",
    "Feature2.configure(state='normal')\n",
    "Feature2.insert('end', preReq.INarr[1])\n",
    "Feature2.configure(state='disabled')\n",
    "Feature2.place(x=200, y=100)"
   ]
  },
  {
   "cell_type": "code",
   "execution_count": 16,
   "id": "992ff45b",
   "metadata": {},
   "outputs": [],
   "source": [
    "Class1_lbl = tk.Label(Top, text='Select 1st Class', font=('Verdana', 12), foreground=\"Blue\")\n",
    "Class1_lbl.place(x=10, y=160)\n",
    "\n",
    "Class1 = tk.Entry(Top, font=('Verdana', 12), foreground=\"green\", width=8)\n",
    "Class1.configure(state='normal')\n",
    "Class1.insert('end', preReq.INarr[2])\n",
    "Class1.configure(state='disabled')\n",
    "Class1.place(x=200, y=160)\n",
    "\n",
    "Class2_lbl = tk.Label(Top, text='Select 2nd Class', font=('Verdana', 12), foreground=\"Blue\")\n",
    "Class2_lbl.place(x=10, y=200)\n",
    "\n",
    "Class2 = tk.Entry(Top, font=('Verdana', 12), foreground=\"green\", width=8)\n",
    "Class2.configure(state='normal')\n",
    "Class2.insert('end', preReq.INarr[3])\n",
    "Class2.configure(state='disabled')\n",
    "Class2.place(x=200, y=200)"
   ]
  },
  {
   "cell_type": "code",
   "execution_count": 17,
   "id": "07280eb0",
   "metadata": {},
   "outputs": [],
   "source": [
    "eta_lbl = tk.Label(Top, text='Enter eta value', font=('Verdana', 12), foreground=\"Blue\")\n",
    "eta_lbl.place(x=10, y=260)\n",
    "\n",
    "eta = tk.Entry(Top, font=('Verdana', 12), foreground=\"Blue\", width=8)\n",
    "eta.configure(state='normal')\n",
    "eta.insert('end', preReq.INarr[4])\n",
    "eta.configure(state='disabled')\n",
    "eta.place(x=200, y=260)"
   ]
  },
  {
   "cell_type": "code",
   "execution_count": 18,
   "id": "67585c03",
   "metadata": {},
   "outputs": [],
   "source": [
    "ebochs_lbl = tk.Label(Top, text='Enter no. of ebochs', font=('Verdana', 12), foreground=\"Blue\")\n",
    "ebochs_lbl.place(x=10, y=300)\n",
    "\n",
    "ebochs = tk.Entry(Top, font=('Verdana', 12), foreground=\"Blue\", width=8)\n",
    "ebochs.configure(state='normal')\n",
    "ebochs.insert('end', preReq.INarr[5])\n",
    "ebochs.configure(state='disabled')\n",
    "ebochs.place(x=200, y=300)"
   ]
  },
  {
   "cell_type": "code",
   "execution_count": 19,
   "id": "989d4103",
   "metadata": {},
   "outputs": [],
   "source": [
    "CheckBias = tk.IntVar()\n",
    "Bias = tk.Checkbutton(Top, text=\"Bias\", variable=CheckBias, onvalue=1, offvalue=0, font=('Verdana', 20, 'bold'),\n",
    "                      foreground=\"Orange\")\n",
    "if preReq.INarr[6]:\n",
    "    Bias.select()\n",
    "Bias.configure(state='disabled')\n",
    "Bias.place(x=50, y=340)"
   ]
  },
  {
   "cell_type": "code",
   "execution_count": 20,
   "id": "e7c47473",
   "metadata": {},
   "outputs": [],
   "source": [
    "ExitBTN = tk.Button(Top, text=\"Exit\", font=('Verdana', 15, 'bold'), bg=\"red\", foreground=\"yellow\", command=ExitFn)\n",
    "ExitBTN.place(x=150, y=400)"
   ]
  },
  {
   "cell_type": "code",
   "execution_count": 21,
   "id": "8081893f",
   "metadata": {},
   "outputs": [],
   "source": [
    "canvas = Canvas(Top, width=5, height=500)\n",
    "for x in range(5):\n",
    "    canvas.create_line(x, 0, x, 500, fill=\"#a52a2a\")\n",
    "canvas.place(x=380, y=0)"
   ]
  },
  {
   "cell_type": "code",
   "execution_count": 22,
   "id": "1ea907c7",
   "metadata": {},
   "outputs": [],
   "source": [
    "pClass_lbl = tk.Label(Top, text='Predicted :', font=('Verdana', 12), foreground=\"orange\")\n",
    "pClass_lbl.place(x=450, y=60)\n",
    "\n",
    "pClass = tk.Entry(Top, font=('Verdana', 12), foreground=\"green\", width=10)\n",
    "pClass.configure(state='normal')\n",
    "pClass.insert('end', preReq.OUTarr[0])\n",
    "pClass.configure(state='disabled')\n",
    "pClass.place(x=550, y=60)"
   ]
  },
  {
   "cell_type": "code",
   "execution_count": 23,
   "id": "317c5c88",
   "metadata": {},
   "outputs": [],
   "source": [
    "trainAcc_lbl = tk.Label(Top, text='Train Acc :', font=('Verdana', 12), foreground=\"orange\")\n",
    "trainAcc_lbl.place(x=680, y=60)\n",
    "\n",
    "trainAcc = tk.Entry(Top, font=('Verdana', 12), foreground=\"green\", width=10)\n",
    "trainAcc.configure(state='normal')\n",
    "trainAcc.insert('end', (preReq.OUTarr[1], '%'))\n",
    "trainAcc.configure(state='disabled')\n",
    "trainAcc.place(x=780, y=60)"
   ]
  },
  {
   "cell_type": "code",
   "execution_count": 24,
   "id": "9462697b",
   "metadata": {},
   "outputs": [],
   "source": [
    "testAcc_lbl = tk.Label(Top, text='Test  Acc : ', font=('Verdana', 12), foreground=\"orange\")\n",
    "testAcc_lbl.place(x=680, y=100)\n",
    "\n",
    "testAcc = tk.Entry(Top, font=('Verdana', 12), foreground=\"green\", width=10)\n",
    "testAcc.configure(state='normal')\n",
    "testAcc.insert('end', (preReq.OUTarr[2], '%'))\n",
    "testAcc.configure(state='disabled')\n",
    "testAcc.place(x=780, y=100)"
   ]
  },
  {
   "cell_type": "code",
   "execution_count": 25,
   "id": "c406bf67",
   "metadata": {},
   "outputs": [],
   "source": [
    "confMat_lbl = tk.Label(Top, text='Confusion\\nMatrix', font=('Verdana', 12), foreground=\"orange\")\n",
    "confMat_lbl.place(x=450, y=100)\n",
    "\n",
    "confMat0 = tk.Entry(Top, font=('Verdana', 12), foreground=\"green\", width=4)\n",
    "confMat0.configure(state='normal')\n",
    "confMat0.insert('end', (preReq.OUTarr[3][0]))\n",
    "confMat0.configure(state='disabled')\n",
    "confMat0.place(x=540, y=100)\n",
    "\n",
    "confMat1 = tk.Entry(Top, font=('Verdana', 12), foreground=\"green\", width=4)\n",
    "confMat1.configure(state='normal')\n",
    "confMat1.insert('end', (preReq.OUTarr[3][1]))\n",
    "confMat1.configure(state='disabled')\n",
    "confMat1.place(x=580, y=100)\n",
    "\n",
    "confMat2 = tk.Entry(Top, font=('Verdana', 12), foreground=\"green\", width=4)\n",
    "confMat2.configure(state='normal')\n",
    "confMat2.insert('end', (preReq.OUTarr[3][2]))\n",
    "confMat2.configure(state='disabled')\n",
    "confMat2.place(x=540, y=120)\n",
    "\n",
    "confMat3 = tk.Entry(Top, font=('Verdana', 12), foreground=\"green\", width=4)\n",
    "confMat3.configure(state='normal')\n",
    "confMat3.insert('end', (preReq.OUTarr[3][3]))\n",
    "confMat3.configure(state='disabled')\n",
    "confMat3.place(x=580, y=120)"
   ]
  },
  {
   "cell_type": "code",
   "execution_count": 26,
   "id": "3b6a1ebf",
   "metadata": {},
   "outputs": [
    {
     "data": {
      "text/plain": [
       "[<matplotlib.lines.Line2D at 0x1812dc53d60>]"
      ]
     },
     "execution_count": 26,
     "metadata": {},
     "output_type": "execute_result"
    }
   ],
   "source": [
    "f = Figure(figsize=(3, 3), dpi=100)\n",
    "a = f.add_subplot(111)\n",
    "a.scatter(x=Model.train_data[:, :1], y=Model.train_data[:, 1:2], c=Model.train_target)\n",
    "a.plot(np.array([0, 1]), np.array([(-Model.bias) / Model.weight[1], (-Model.weight[0] - Model.bias) / Model.weight[1]]))"
   ]
  },
  {
   "cell_type": "code",
   "execution_count": 27,
   "id": "3f5931ec",
   "metadata": {},
   "outputs": [],
   "source": [
    "canvas = FigureCanvasTkAgg(f, master=Top)\n",
    "canvas.draw()\n",
    "canvas.get_tk_widget().pack()\n",
    "toolbar = NavigationToolbar2Tk(canvas, Top)\n",
    "toolbar.update()\n",
    "canvas._tkcanvas.place(x=530, y=160)"
   ]
  },
  {
   "cell_type": "code",
   "execution_count": 28,
   "id": "088b1cb1",
   "metadata": {},
   "outputs": [],
   "source": [
    "Top.mainloop()"
   ]
  }
 ],
 "metadata": {
  "kernelspec": {
   "display_name": "Python 3 (ipykernel)",
   "language": "python",
   "name": "python3"
  },
  "language_info": {
   "codemirror_mode": {
    "name": "ipython",
    "version": 3
   },
   "file_extension": ".py",
   "mimetype": "text/x-python",
   "name": "python",
   "nbconvert_exporter": "python",
   "pygments_lexer": "ipython3",
   "version": "3.9.12"
  }
 },
 "nbformat": 4,
 "nbformat_minor": 5
}
