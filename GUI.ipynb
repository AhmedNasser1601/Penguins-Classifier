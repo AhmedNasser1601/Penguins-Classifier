{
 "cells": [
  {
   "cell_type": "code",
   "execution_count": 1,
   "id": "4b18ba12",
   "metadata": {},
   "outputs": [],
   "source": [
    "import os\n",
    "import sys\n",
    "import json\n",
    "import tkinter as tk\n",
    "from tkinter import ttk\n",
    "from tkinter import messagebox\n",
    "from tkinter import Canvas\n",
    "\n",
    "import preReq"
   ]
  },
  {
   "cell_type": "markdown",
   "id": "a29c1914",
   "metadata": {},
   "source": [
    "---\n",
    "### Input Part"
   ]
  },
  {
   "cell_type": "code",
   "execution_count": 2,
   "id": "0d515967",
   "metadata": {},
   "outputs": [
    {
     "data": {
      "text/plain": [
       "''"
      ]
     },
     "execution_count": 2,
     "metadata": {},
     "output_type": "execute_result"
    }
   ],
   "source": [
    "Top = tk.Tk()\n",
    "Top.title(\"Penguins-Classifier-Perceptron\")\n",
    "Top.geometry('1000x500')\n",
    "Top.resizable(0, 0)"
   ]
  },
  {
   "cell_type": "code",
   "execution_count": 3,
   "id": "2c8753a1",
   "metadata": {},
   "outputs": [],
   "source": [
    "Input_lbl = tk.Label(Top, text='Input', font=('Times New Roman', 27), foreground=\"#a52a2a\")\n",
    "Input_lbl.place(x=130, y=1)\n",
    "\n",
    "Output_lbl = tk.Label(Top, text='Output', font=('Times New Roman', 27), foreground=\"#a52a2a\")\n",
    "Output_lbl.place(x=630, y=1)"
   ]
  },
  {
   "cell_type": "code",
   "execution_count": 4,
   "id": "00e3f97f",
   "metadata": {},
   "outputs": [],
   "source": [
    "Feature1_lbl = tk.Label(Top, text='Select 1st Feature', font=('Verdana', 12), foreground=\"Blue\")\n",
    "Feature1_lbl.place(x=10, y=60)\n",
    "\n",
    "Feature1 = ttk.Combobox(Top, width=15, font=('Verdana', 10))\n",
    "Feature1['values'] = preReq.Features\n",
    "Feature1.current()\n",
    "Feature1.place(x=200, y=60)\n",
    "\n",
    "\n",
    "Feature2_lbl = tk.Label(Top, text='Select 2nd Feature', font=('Verdana', 12), foreground=\"Blue\")\n",
    "Feature2_lbl.place(x=10, y=100)\n",
    "\n",
    "Feature2 = ttk.Combobox(Top, width=15, font=('Verdana', 10))\n",
    "Feature2['values'] = preReq.Features\n",
    "Feature2.current()\n",
    "Feature2.place(x=200, y=100)"
   ]
  },
  {
   "cell_type": "code",
   "execution_count": 5,
   "id": "35eaa1a2",
   "metadata": {},
   "outputs": [],
   "source": [
    "Class1_lbl = tk.Label(Top, text='Select 1st Class', font=('Verdana', 12), foreground=\"Blue\")\n",
    "Class1_lbl.place(x=10, y=160)\n",
    "\n",
    "Class1 = ttk.Combobox(Top, width=15, font=('Verdana', 10))\n",
    "Class1['values'] = preReq.Classes\n",
    "Class1.current()\n",
    "Class1.place(x=200, y=160)\n",
    "\n",
    "\n",
    "Class2_lbl = tk.Label(Top,text='Select 2nd Class', font=('Verdana', 12),foreground=\"Blue\")\n",
    "Class2_lbl.place(x=10, y=200)\n",
    "\n",
    "Class2 = ttk.Combobox(Top,width=15, font=('Verdana', 10))\n",
    "Class2['values'] = preReq.Classes\n",
    "Class2.current()\n",
    "Class2.place(x=200, y=200)"
   ]
  },
  {
   "cell_type": "code",
   "execution_count": 6,
   "id": "d13e6974",
   "metadata": {},
   "outputs": [],
   "source": [
    "eta_lbl = tk.Label(Top, text='Enter eta value', font=('Verdana', 12), foreground=\"Blue\")\n",
    "eta_lbl.place(x=10, y=260)\n",
    "\n",
    "eta = tk.Entry(Top, font=('Verdana', 10), foreground=\"Blue\", width=10)\n",
    "eta.place(x =200, y=260)"
   ]
  },
  {
   "cell_type": "code",
   "execution_count": 7,
   "id": "6d370594",
   "metadata": {},
   "outputs": [],
   "source": [
    "ebochs_lbl = tk.Label(Top,text='Enter no. of ebochs', font=('Verdana', 12), foreground=\"Blue\")\n",
    "ebochs_lbl.place(x=10, y=300)\n",
    "\n",
    "ebochs = tk.Entry(Top, font=('Verdana', 10), foreground=\"Blue\", width=10)\n",
    "ebochs.place(x=200, y=300)"
   ]
  },
  {
   "cell_type": "code",
   "execution_count": 8,
   "id": "02549ff8",
   "metadata": {},
   "outputs": [],
   "source": [
    "CheckBias = tk.IntVar()\n",
    "Bias = tk.Checkbutton(Top, text=\"Bias\", variable=CheckBias, onvalue=1, offvalue=0, font=('Verdana', 20, 'bold'), foreground=\"Orange\")\n",
    "Bias.place(x=50, y=360)"
   ]
  },
  {
   "cell_type": "code",
   "execution_count": 9,
   "id": "ed34aac8",
   "metadata": {},
   "outputs": [],
   "source": [
    "def PredictFn():\n",
    "    if (Feature1.get()=='') or (Feature2.get()=='') or (Class1.get()=='') or (Class2.get()=='') or (eta.get()=='') or (ebochs.get()==''):\n",
    "        messagebox.showerror(title=\"error\", message=\"Insert the missing inputs\", parent=Top)\n",
    "    elif (Feature1.get()==Feature2.get()) or (Class1.get()==Class2.get()):\n",
    "        messagebox.showerror(title=\"error\", message=\"Don't reapet your choose\", parent=Top)\n",
    "    else:\n",
    "        preReq.INarr[0] = Feature1.get()\n",
    "        preReq.INarr[1] = Feature2.get()\n",
    "        preReq.INarr[2] = Class1.get()\n",
    "        preReq.INarr[3] = Class2.get()\n",
    "        preReq.INarr[4] = abs(int(eta.get()))\n",
    "        preReq.INarr[5] = abs(int(ebochs.get()))\n",
    "        preReq.INarr[6] = CheckBias.get()\n",
    "        exec(open('Model.py').read())\n",
    "        Top.destroy()\n",
    "    \n",
    "def ExitFn():\n",
    "    os._exit(1)\n",
    "\n",
    "ExitBTN = tk.Button(Top, text=\"Exit\", font=('Verdana', 15, 'bold'), bg=\"red\", foreground=\"yellow\", command=ExitFn)\n",
    "ExitBTN.place(x=90, y=430)\n",
    "\n",
    "PredictBTN = tk.Button(Top, text=\"Run\", font=('Verdana', 15, 'bold'), bg=\"green\", foreground=\"yellow\", command=PredictFn)\n",
    "PredictBTN.place(x=210, y=430)"
   ]
  },
  {
   "cell_type": "code",
   "execution_count": 10,
   "id": "7c33dbbd",
   "metadata": {},
   "outputs": [],
   "source": [
    "canvas = Canvas(Top, width=5, height=500)\n",
    "for x in range(5):\n",
    "    canvas.create_line(x, 0, x, 500, fill=\"#a52a2a\")\n",
    "canvas.place(x=380, y=0)"
   ]
  },
  {
   "cell_type": "code",
   "execution_count": 11,
   "id": "d377647e",
   "metadata": {},
   "outputs": [],
   "source": [
    "Top.mainloop()"
   ]
  },
  {
   "cell_type": "markdown",
   "id": "6ee7b283",
   "metadata": {},
   "source": [
    "---\n",
    "### Output Part"
   ]
  },
  {
   "cell_type": "code",
   "execution_count": 12,
   "id": "ac3fbd21",
   "metadata": {},
   "outputs": [
    {
     "data": {
      "text/plain": [
       "''"
      ]
     },
     "execution_count": 12,
     "metadata": {},
     "output_type": "execute_result"
    }
   ],
   "source": [
    "Top = tk.Tk()\n",
    "Top.title(\"Penguins-Classifier-Perceptron\")\n",
    "Top.geometry('1000x500')\n",
    "Top.resizable(0, 0)"
   ]
  },
  {
   "cell_type": "code",
   "execution_count": 13,
   "id": "0bf3903a",
   "metadata": {},
   "outputs": [],
   "source": [
    "Input_lbl = tk.Label(Top, text='Input', font=('Times New Roman', 27), foreground=\"#a52a2a\")\n",
    "Input_lbl.place(x=130, y=1)\n",
    "\n",
    "Output_lbl = tk.Label(Top, text='Output', font=('Times New Roman', 27), foreground=\"#a52a2a\")\n",
    "Output_lbl.place(x=630, y=1)"
   ]
  },
  {
   "cell_type": "code",
   "execution_count": 14,
   "id": "7f56a459",
   "metadata": {},
   "outputs": [],
   "source": [
    "Feature1_lbl = tk.Label(Top, text='Select 1st Feature', font=('Verdana', 12), foreground=\"Blue\")\n",
    "Feature1_lbl.place(x=10, y=60)\n",
    "\n",
    "Feature1 = tk.Entry(Top, font=('Verdana', 12), foreground=\"green\", width=16)\n",
    "Feature1.configure(state='normal')\n",
    "Feature1.insert('end', preReq.INarr[0])\n",
    "Feature1.configure(state='disabled')\n",
    "Feature1.place(x=200, y=60)\n",
    "\n",
    "\n",
    "Feature2_lbl = tk.Label(Top, text='Select 2nd Feature', font=('Verdana', 12), foreground=\"Blue\")\n",
    "Feature2_lbl.place(x=10, y=100)\n",
    "\n",
    "Feature2 = tk.Entry(Top, font=('Verdana', 12), foreground=\"green\", width=16)\n",
    "Feature2.configure(state='normal')\n",
    "Feature2.insert('end', preReq.INarr[1])\n",
    "Feature2.configure(state='disabled')\n",
    "Feature2.place(x=200, y=100)"
   ]
  },
  {
   "cell_type": "code",
   "execution_count": 15,
   "id": "992ff45b",
   "metadata": {},
   "outputs": [],
   "source": [
    "Class1_lbl = tk.Label(Top, text='Select 1st Class', font=('Verdana', 12), foreground=\"Blue\")\n",
    "Class1_lbl.place(x=10, y=160)\n",
    "\n",
    "Class1 = tk.Entry(Top, font=('Verdana', 12), foreground=\"green\", width=8)\n",
    "Class1.configure(state='normal')\n",
    "Class1.insert('end', preReq.INarr[2])\n",
    "Class1.configure(state='disabled')\n",
    "Class1.place(x=200, y=160)\n",
    "\n",
    "\n",
    "Class2_lbl = tk.Label(Top,text='Select 2nd Class', font=('Verdana', 12),foreground=\"Blue\")\n",
    "Class2_lbl.place(x=10, y=200)\n",
    "\n",
    "Class2 = tk.Entry(Top, font=('Verdana', 12), foreground=\"green\", width=8)\n",
    "Class2.configure(state='normal')\n",
    "Class2.insert('end', preReq.INarr[3])\n",
    "Class2.configure(state='disabled')\n",
    "Class2.place(x=200, y=200)"
   ]
  },
  {
   "cell_type": "code",
   "execution_count": 16,
   "id": "07280eb0",
   "metadata": {},
   "outputs": [],
   "source": [
    "eta_lbl = tk.Label(Top, text='Enter eta value', font=('Verdana', 12), foreground=\"Blue\")\n",
    "eta_lbl.place(x=10, y=260)\n",
    "\n",
    "eta = tk.Entry(Top, font=('Verdana', 12), foreground=\"Blue\", width=8)\n",
    "eta.configure(state='normal')\n",
    "eta.insert('end', preReq.INarr[4])\n",
    "eta.configure(state='disabled')\n",
    "eta.place(x =200, y=260)"
   ]
  },
  {
   "cell_type": "code",
   "execution_count": 17,
   "id": "67585c03",
   "metadata": {},
   "outputs": [],
   "source": [
    "ebochs_lbl = tk.Label(Top,text='Enter no. of ebochs', font=('Verdana', 12), foreground=\"Blue\")\n",
    "ebochs_lbl.place(x=10, y=300)\n",
    "\n",
    "ebochs = tk.Entry(Top, font=('Verdana', 12), foreground=\"Blue\", width=8)\n",
    "ebochs.configure(state='normal')\n",
    "ebochs.insert('end', preReq.INarr[5])\n",
    "ebochs.configure(state='disabled')\n",
    "ebochs.place(x=200, y=300)"
   ]
  },
  {
   "cell_type": "code",
   "execution_count": 18,
   "id": "989d4103",
   "metadata": {},
   "outputs": [],
   "source": [
    "CheckBias = tk.IntVar()\n",
    "Bias = tk.Checkbutton(Top, text=\"Bias\", variable=CheckBias, onvalue=1, offvalue=0, font=('Verdana', 20, 'bold'), foreground=\"Orange\")\n",
    "if preReq.INarr[6]:\n",
    "    Bias.select()\n",
    "Bias.configure(state='disabled')\n",
    "Bias.place(x=50, y=360)"
   ]
  },
  {
   "cell_type": "code",
   "execution_count": 19,
   "id": "e7c47473",
   "metadata": {},
   "outputs": [],
   "source": [
    "ExitBTN = tk.Button(Top, text=\"Exit\", font=('Verdana', 15, 'bold'), bg=\"red\", foreground=\"yellow\", command=ExitFn)\n",
    "ExitBTN.place(x=150, y=430)"
   ]
  },
  {
   "cell_type": "code",
   "execution_count": 20,
   "id": "8081893f",
   "metadata": {},
   "outputs": [],
   "source": [
    "canvas = Canvas(Top, width=5, height=500)\n",
    "for x in range(5):\n",
    "    canvas.create_line(x, 0, x, 500, fill=\"#a52a2a\")\n",
    "canvas.place(x=380, y=0)"
   ]
  },
  {
   "cell_type": "code",
   "execution_count": 21,
   "id": "1ea907c7",
   "metadata": {},
   "outputs": [],
   "source": [
    "pClass_lbl = tk.Label(Top, text='Predicted :', font=('Verdana', 12), foreground=\"orange\")\n",
    "pClass_lbl.place(x=400, y=100)\n",
    "\n",
    "pClass = tk.Entry(Top, font=('Verdana', 12), foreground=\"green\", width=10)\n",
    "pClass.configure(state='normal')\n",
    "pClass.insert('end', preReq.OUTarr[0])\n",
    "pClass.configure(state='disabled')\n",
    "pClass.place(x=500, y=100)"
   ]
  },
  {
   "cell_type": "code",
   "execution_count": 22,
   "id": "317c5c88",
   "metadata": {},
   "outputs": [],
   "source": [
    "trainAcc_lbl = tk.Label(Top, text='Train Acc :', font=('Verdana', 12), foreground=\"orange\")\n",
    "trainAcc_lbl.place(x=400, y=160)\n",
    "\n",
    "trainAcc = tk.Entry(Top, font=('Verdana', 12), foreground=\"green\", width=10)\n",
    "trainAcc.configure(state='normal')\n",
    "trainAcc.insert('end', (preReq.OUTarr[1], '%'))\n",
    "trainAcc.configure(state='disabled')\n",
    "trainAcc.place(x=500, y=160)"
   ]
  },
  {
   "cell_type": "code",
   "execution_count": 23,
   "id": "9462697b",
   "metadata": {},
   "outputs": [],
   "source": [
    "testAcc_lbl = tk.Label(Top, text='Test  Acc : ', font=('Verdana', 12), foreground=\"orange\")\n",
    "testAcc_lbl.place(x=400, y=200)\n",
    "\n",
    "testAcc = tk.Entry(Top, font=('Verdana', 12), foreground=\"green\", width=10)\n",
    "testAcc.configure(state='normal')\n",
    "testAcc.insert('end', (preReq.OUTarr[2], '%'))\n",
    "testAcc.configure(state='disabled')\n",
    "testAcc.place(x=500, y=200)"
   ]
  },
  {
   "cell_type": "code",
   "execution_count": 24,
   "id": "c406bf67",
   "metadata": {},
   "outputs": [],
   "source": [
    "confMat_lbl = tk.Label(Top, text='Confusion\\nMatrix', font=('Verdana', 12), foreground=\"orange\")\n",
    "confMat_lbl.place(x=400, y=260)\n",
    "\n",
    "confMat0 = tk.Entry(Top, font=('Verdana', 12), foreground=\"green\", width=4)\n",
    "confMat0.configure(state='normal')\n",
    "confMat0.insert('end', (preReq.OUTarr[3][0]))\n",
    "confMat0.configure(state='disabled')\n",
    "confMat0.place(x=500, y=260)\n",
    "\n",
    "confMat1 = tk.Entry(Top, font=('Verdana', 12), foreground=\"green\", width=4)\n",
    "confMat1.configure(state='normal')\n",
    "confMat1.insert('end', (preReq.OUTarr[3][1]))\n",
    "confMat1.configure(state='disabled')\n",
    "confMat1.place(x=545, y=260)\n",
    "\n",
    "confMat2 = tk.Entry(Top, font=('Verdana', 12), foreground=\"green\", width=4)\n",
    "confMat2.configure(state='normal')\n",
    "confMat2.insert('end', (preReq.OUTarr[3][2]))\n",
    "confMat2.configure(state='disabled')\n",
    "confMat2.place(x=500, y=280)\n",
    "\n",
    "confMat3 = tk.Entry(Top, font=('Verdana', 12), foreground=\"green\", width=4)\n",
    "confMat3.configure(state='normal')\n",
    "confMat3.insert('end', (preReq.OUTarr[3][3]))\n",
    "confMat3.configure(state='disabled')\n",
    "confMat3.place(x=545, y=280)"
   ]
  },
  {
   "cell_type": "code",
   "execution_count": 25,
   "id": "088b1cb1",
   "metadata": {},
   "outputs": [],
   "source": [
    "Top.mainloop()"
   ]
  }
 ],
 "metadata": {
  "kernelspec": {
   "display_name": "Python 3 (ipykernel)",
   "language": "python",
   "name": "python3"
  },
  "language_info": {
   "codemirror_mode": {
    "name": "ipython",
    "version": 3
   },
   "file_extension": ".py",
   "mimetype": "text/x-python",
   "name": "python",
   "nbconvert_exporter": "python",
   "pygments_lexer": "ipython3",
   "version": "3.9.12"
  }
 },
 "nbformat": 4,
 "nbformat_minor": 5
}
